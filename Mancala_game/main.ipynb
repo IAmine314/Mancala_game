{
 "cells": [
  {
   "cell_type": "code",
   "execution_count": 3,
   "metadata": {},
   "outputs": [],
   "source": [
    "from MancalaBoard import MancalaBoard\n",
    "from Game import Game\n",
    "from Play import Play"
   ]
  },
  {
   "cell_type": "code",
   "execution_count": 20,
   "metadata": {},
   "outputs": [],
   "source": [
    "board = MancalaBoard()\n",
    "\n",
    "player_side = {\"HUMAN\":1, \"COMPUTER\":2}\n",
    "\n",
    "game = Game(board, player_side)\n",
    "\n"
   ]
  },
  {
   "cell_type": "code",
   "execution_count": 21,
   "metadata": {},
   "outputs": [
    {
     "name": "stdout",
     "output_type": "stream",
     "text": [
      "False\n",
      "0\n",
      "1\n"
     ]
    }
   ],
   "source": [
    "print(game.game_over())  \n",
    "\n",
    "\n",
    "print(game.evaluate())  \n",
    "\n",
    "\n",
    "board.do_move(2, \"L\")\n",
    "print(game.evaluate())"
   ]
  }
 ],
 "metadata": {
  "kernelspec": {
   "display_name": "tensorflowgpu",
   "language": "python",
   "name": "python3"
  },
  "language_info": {
   "codemirror_mode": {
    "name": "ipython",
    "version": 3
   },
   "file_extension": ".py",
   "mimetype": "text/x-python",
   "name": "python",
   "nbconvert_exporter": "python",
   "pygments_lexer": "ipython3",
   "version": "3.10.14"
  }
 },
 "nbformat": 4,
 "nbformat_minor": 2
}
